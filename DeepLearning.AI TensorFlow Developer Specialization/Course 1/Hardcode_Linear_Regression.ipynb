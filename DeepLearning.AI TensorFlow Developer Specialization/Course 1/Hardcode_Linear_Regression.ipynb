{
 "cells": [
  {
   "cell_type": "code",
   "execution_count": 84,
   "id": "f5ce44be",
   "metadata": {},
   "outputs": [],
   "source": [
    "import numpy as np"
   ]
  },
  {
   "cell_type": "code",
   "execution_count": 106,
   "id": "79a36889",
   "metadata": {},
   "outputs": [
    {
     "name": "stdout",
     "output_type": "stream",
     "text": [
      "[13.00058514 18.00025372 27.99959088] [13.00062409 18.00027061 27.99956365]\n"
     ]
    }
   ],
   "source": [
    "xs = np.array([2.0, 3.0, 5.0], dtype = 'float')\n",
    "ys = np.array([13.0, 18.0, 28.0],  dtype = 'float')\n",
    "\n",
    "w = np.random.randint(100, size = 1)\n",
    "b = np.random.randint(100, size = 1)\n",
    "\n",
    "w1 = w\n",
    "b1 = b\n",
    "\n",
    "grad_w0 = 0\n",
    "grad_b0 = 0\n",
    "\n",
    "for i in range(1500):\n",
    "    \n",
    "    grad_w = np.sum(2 * xs * (ypred - ys))\n",
    "    grad_b = np.sum(2 * (ypred - ys))\n",
    "    \n",
    "    grad_w1 = 0.9 * grad_w0 + 0.1 * grad_w\n",
    "    grad_b1 = 0.9 * grad_b0 + 0.1 * grad_b\n",
    "    \n",
    "    grad_w0 = grad_w1\n",
    "    grad_b0 = grad_b1\n",
    "    \n",
    "    w1 = w1 - 0.01 * grad_w1\n",
    "    b1 = b1 - 0.01 * grad_b1\n",
    "    \n",
    "    w = w - 0.01 * grad_w\n",
    "    b = b - 0.01 * grad_b\n",
    "    \n",
    "    ypred1 = np.multiply(xs, w1) + b1\n",
    "    ypred = np.multiply(xs, w) + b\n",
    "    \n",
    "print(ypred, ypred1)"
   ]
  },
  {
   "cell_type": "code",
   "execution_count": null,
   "id": "7bbdf8c7",
   "metadata": {},
   "outputs": [],
   "source": []
  }
 ],
 "metadata": {
  "kernelspec": {
   "display_name": "Python 3 (ipykernel)",
   "language": "python",
   "name": "python3"
  },
  "language_info": {
   "codemirror_mode": {
    "name": "ipython",
    "version": 3
   },
   "file_extension": ".py",
   "mimetype": "text/x-python",
   "name": "python",
   "nbconvert_exporter": "python",
   "pygments_lexer": "ipython3",
   "version": "3.10.8"
  }
 },
 "nbformat": 4,
 "nbformat_minor": 5
}
